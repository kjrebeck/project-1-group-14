{
 "cells": [
  {
   "cell_type": "code",
   "execution_count": 50,
   "id": "531d6989-a499-42ea-8f7e-7627f2a82f22",
   "metadata": {},
   "outputs": [],
   "source": [
    "import csv\n",
    "import pandas as pd\n",
    "import numpy as np\n",
    "\n",
    "# Dependencies and Setup\n",
    "import seaborn as sns\n",
    "import matplotlib.pyplot as plt\n",
    "\n",
    "from sklearn import preprocessing "
   ]
  },
  {
   "cell_type": "code",
   "execution_count": 98,
   "id": "004126b1-4ec0-4dbc-b2e1-04b19ef9aec6",
   "metadata": {},
   "outputs": [
    {
     "data": {
      "text/html": [
       "<div>\n",
       "<style scoped>\n",
       "    .dataframe tbody tr th:only-of-type {\n",
       "        vertical-align: middle;\n",
       "    }\n",
       "\n",
       "    .dataframe tbody tr th {\n",
       "        vertical-align: top;\n",
       "    }\n",
       "\n",
       "    .dataframe thead th {\n",
       "        text-align: right;\n",
       "    }\n",
       "</style>\n",
       "<table border=\"1\" class=\"dataframe\">\n",
       "  <thead>\n",
       "    <tr style=\"text-align: right;\">\n",
       "      <th></th>\n",
       "      <th>gender</th>\n",
       "      <th>hs_gpa</th>\n",
       "      <th>year_of_study</th>\n",
       "      <th>field</th>\n",
       "      <th>current_gpa</th>\n",
       "      <th>off_campus</th>\n",
       "      <th>monthly_allowance</th>\n",
       "      <th>scholarship</th>\n",
       "      <th>study_hours</th>\n",
       "      <th>partying_frequency</th>\n",
       "      <th>drinks_consumed</th>\n",
       "      <th>classes_missed</th>\n",
       "      <th>modules_failed</th>\n",
       "      <th>relationship</th>\n",
       "      <th>parents_approval</th>\n",
       "      <th>parent_relationship</th>\n",
       "    </tr>\n",
       "  </thead>\n",
       "  <tbody>\n",
       "    <tr>\n",
       "      <th>0</th>\n",
       "      <td>Female</td>\n",
       "      <td>76.0</td>\n",
       "      <td>2</td>\n",
       "      <td>Arts &amp; Social Sciences</td>\n",
       "      <td>72.0</td>\n",
       "      <td>Yes</td>\n",
       "      <td>R 4001- R 5000</td>\n",
       "      <td>No</td>\n",
       "      <td>8+</td>\n",
       "      <td>Only weekends</td>\n",
       "      <td>8+</td>\n",
       "      <td>3</td>\n",
       "      <td>0</td>\n",
       "      <td>Yes</td>\n",
       "      <td>Yes</td>\n",
       "      <td>Very close</td>\n",
       "    </tr>\n",
       "    <tr>\n",
       "      <th>1</th>\n",
       "      <td>Male</td>\n",
       "      <td>89.0</td>\n",
       "      <td>2</td>\n",
       "      <td>Economic &amp; Management Sciences</td>\n",
       "      <td>75.0</td>\n",
       "      <td>Yes</td>\n",
       "      <td>R 7001 - R 8000</td>\n",
       "      <td>Yes</td>\n",
       "      <td>8+</td>\n",
       "      <td>Only weekends</td>\n",
       "      <td>3-5</td>\n",
       "      <td>4+</td>\n",
       "      <td>0</td>\n",
       "      <td>No</td>\n",
       "      <td>Yes</td>\n",
       "      <td>Very close</td>\n",
       "    </tr>\n",
       "    <tr>\n",
       "      <th>2</th>\n",
       "      <td>Male</td>\n",
       "      <td>76.0</td>\n",
       "      <td>1</td>\n",
       "      <td>AgriSciences</td>\n",
       "      <td>55.0</td>\n",
       "      <td>Yes</td>\n",
       "      <td>R 4001- R 5000</td>\n",
       "      <td>No</td>\n",
       "      <td>3-5</td>\n",
       "      <td>2</td>\n",
       "      <td>8+</td>\n",
       "      <td>3</td>\n",
       "      <td>0</td>\n",
       "      <td>No</td>\n",
       "      <td>Yes</td>\n",
       "      <td>Very close</td>\n",
       "    </tr>\n",
       "    <tr>\n",
       "      <th>3</th>\n",
       "      <td>Male</td>\n",
       "      <td>89.0</td>\n",
       "      <td>2</td>\n",
       "      <td>Engineering</td>\n",
       "      <td>84.0</td>\n",
       "      <td>Yes</td>\n",
       "      <td>R 6001 - R 7000</td>\n",
       "      <td>No</td>\n",
       "      <td>3-5</td>\n",
       "      <td>3</td>\n",
       "      <td>8+</td>\n",
       "      <td>2</td>\n",
       "      <td>0</td>\n",
       "      <td>Yes</td>\n",
       "      <td>Yes</td>\n",
       "      <td>Very close</td>\n",
       "    </tr>\n",
       "    <tr>\n",
       "      <th>4</th>\n",
       "      <td>Female</td>\n",
       "      <td>74.0</td>\n",
       "      <td>2</td>\n",
       "      <td>Arts &amp; Social Sciences</td>\n",
       "      <td>52.0</td>\n",
       "      <td>Yes</td>\n",
       "      <td>R 4001- R 5000</td>\n",
       "      <td>No</td>\n",
       "      <td>3-5</td>\n",
       "      <td>Only weekends</td>\n",
       "      <td>5-8</td>\n",
       "      <td>1</td>\n",
       "      <td>3</td>\n",
       "      <td>No</td>\n",
       "      <td>Yes</td>\n",
       "      <td>Fair</td>\n",
       "    </tr>\n",
       "  </tbody>\n",
       "</table>\n",
       "</div>"
      ],
      "text/plain": [
       "   gender  hs_gpa  year_of_study                           field  current_gpa  \\\n",
       "0  Female    76.0              2          Arts & Social Sciences         72.0   \n",
       "1    Male    89.0              2  Economic & Management Sciences         75.0   \n",
       "2    Male    76.0              1                    AgriSciences         55.0   \n",
       "3    Male    89.0              2                     Engineering         84.0   \n",
       "4  Female    74.0              2          Arts & Social Sciences         52.0   \n",
       "\n",
       "  off_campus monthly_allowance scholarship study_hours partying_frequency  \\\n",
       "0        Yes    R 4001- R 5000          No          8+      Only weekends   \n",
       "1        Yes   R 7001 - R 8000         Yes          8+      Only weekends   \n",
       "2        Yes    R 4001- R 5000          No         3-5                  2   \n",
       "3        Yes   R 6001 - R 7000          No         3-5                  3   \n",
       "4        Yes    R 4001- R 5000          No         3-5      Only weekends   \n",
       "\n",
       "  drinks_consumed classes_missed modules_failed relationship parents_approval  \\\n",
       "0              8+              3              0          Yes              Yes   \n",
       "1             3-5             4+              0           No              Yes   \n",
       "2              8+              3              0           No              Yes   \n",
       "3              8+              2              0          Yes              Yes   \n",
       "4             5-8              1              3           No              Yes   \n",
       "\n",
       "  parent_relationship  \n",
       "0          Very close  \n",
       "1          Very close  \n",
       "2          Very close  \n",
       "3          Very close  \n",
       "4                Fair  "
      ]
     },
     "execution_count": 98,
     "metadata": {},
     "output_type": "execute_result"
    }
   ],
   "source": [
    "file= \"../Katie_working/data_clean_351.csv\"\n",
    "\n",
    "df = pd.read_csv(file)\n",
    "\n",
    "df.head()"
   ]
  },
  {
   "cell_type": "code",
   "execution_count": 99,
   "id": "b2d2f05d-7a67-42de-b497-a4d2a33b67e8",
   "metadata": {},
   "outputs": [
    {
     "data": {
      "text/plain": [
       "field\n",
       "Economic & Management Sciences    192\n",
       "Science                            46\n",
       "Arts & Social Sciences             39\n",
       "Engineering                        31\n",
       "AgriSciences                       18\n",
       "Law                                 8\n",
       "Medicine and Health Services        8\n",
       "Education                           5\n",
       "Other                               4\n",
       "Name: count, dtype: int64"
      ]
     },
     "execution_count": 99,
     "metadata": {},
     "output_type": "execute_result"
    }
   ],
   "source": [
    "df.field.value_counts()"
   ]
  },
  {
   "cell_type": "code",
   "execution_count": 100,
   "id": "0afe2d76-5308-40b5-a20e-fa37d6dc0dd1",
   "metadata": {},
   "outputs": [
    {
     "data": {
      "text/plain": [
       "monthly_allowance\n",
       "R 4001- R 5000     147\n",
       "R 5001 - R 6000     99\n",
       "R 6001 - R 7000     51\n",
       "R 7001 - R 8000     28\n",
       "R 8000+             26\n",
       "Name: count, dtype: int64"
      ]
     },
     "execution_count": 100,
     "metadata": {},
     "output_type": "execute_result"
    }
   ],
   "source": [
    "df.monthly_allowance.value_counts()"
   ]
  },
  {
   "cell_type": "code",
   "execution_count": 101,
   "id": "22969407-94d7-4418-8f2d-f6d10662b58a",
   "metadata": {},
   "outputs": [
    {
     "data": {
      "text/plain": [
       "study_hours\n",
       "8+     101\n",
       "3-5     87\n",
       "1-3     72\n",
       "5-8     72\n",
       "0       19\n",
       "Name: count, dtype: int64"
      ]
     },
     "execution_count": 101,
     "metadata": {},
     "output_type": "execute_result"
    }
   ],
   "source": [
    "df.study_hours.value_counts()"
   ]
  },
  {
   "cell_type": "code",
   "execution_count": 102,
   "id": "93622576-a1dd-4722-98a4-a67fb66ddfd0",
   "metadata": {},
   "outputs": [
    {
     "data": {
      "text/plain": [
       "partying_frequency\n",
       "1                95\n",
       "Only weekends    93\n",
       "2                80\n",
       "3                54\n",
       "4+               16\n",
       "0                13\n",
       "Name: count, dtype: int64"
      ]
     },
     "execution_count": 102,
     "metadata": {},
     "output_type": "execute_result"
    }
   ],
   "source": [
    "df.partying_frequency.value_counts()"
   ]
  },
  {
   "cell_type": "code",
   "execution_count": 103,
   "id": "02ed9f59-307a-490a-a18b-9d17dc2d97ef",
   "metadata": {},
   "outputs": [
    {
     "data": {
      "text/plain": [
       "drinks_consumed\n",
       "5-8    96\n",
       "3-5    80\n",
       "8+     79\n",
       "1-3    78\n",
       "0      18\n",
       "Name: count, dtype: int64"
      ]
     },
     "execution_count": 103,
     "metadata": {},
     "output_type": "execute_result"
    }
   ],
   "source": [
    "df.drinks_consumed.value_counts()"
   ]
  },
  {
   "cell_type": "code",
   "execution_count": 104,
   "id": "27fc165e-d173-427f-819c-a26b71275e28",
   "metadata": {},
   "outputs": [
    {
     "data": {
      "text/plain": [
       "classes_missed\n",
       "0     177\n",
       "1      71\n",
       "2      55\n",
       "4+     25\n",
       "3      23\n",
       "Name: count, dtype: int64"
      ]
     },
     "execution_count": 104,
     "metadata": {},
     "output_type": "execute_result"
    }
   ],
   "source": [
    "df.classes_missed.value_counts()"
   ]
  },
  {
   "cell_type": "code",
   "execution_count": 105,
   "id": "6a565dd1-9195-461d-958b-8bb993a3cacb",
   "metadata": {},
   "outputs": [
    {
     "data": {
      "text/plain": [
       "modules_failed\n",
       "0     224\n",
       "1      53\n",
       "2      28\n",
       "3      23\n",
       "4+     23\n",
       "Name: count, dtype: int64"
      ]
     },
     "execution_count": 105,
     "metadata": {},
     "output_type": "execute_result"
    }
   ],
   "source": [
    "df.modules_failed.value_counts()"
   ]
  },
  {
   "cell_type": "code",
   "execution_count": 106,
   "id": "95091f56-8caa-4ff6-b0cd-691844d0446d",
   "metadata": {},
   "outputs": [],
   "source": [
    "#filter out 0 vals\n",
    "mask1=df.current_gpa!=0\n",
    "mask2=df.year_of_study!=0\n",
    "df2=df.loc[mask1].loc[mask2]"
   ]
  },
  {
   "cell_type": "code",
   "execution_count": null,
   "id": "809a034d-0b39-441d-8d8f-c2a5bf82b5ed",
   "metadata": {},
   "outputs": [],
   "source": []
  },
  {
   "cell_type": "code",
   "execution_count": 107,
   "id": "53189259-514d-4ecc-b250-18e6e0acc5d4",
   "metadata": {},
   "outputs": [
    {
     "name": "stdout",
     "output_type": "stream",
     "text": [
      "<class 'pandas.core.frame.DataFrame'>\n",
      "Index: 298 entries, 0 to 350\n",
      "Data columns (total 16 columns):\n",
      " #   Column               Non-Null Count  Dtype  \n",
      "---  ------               --------------  -----  \n",
      " 0   gender               298 non-null    object \n",
      " 1   hs_gpa               298 non-null    float64\n",
      " 2   year_of_study        298 non-null    int64  \n",
      " 3   field                298 non-null    object \n",
      " 4   current_gpa          298 non-null    float64\n",
      " 5   off_campus           298 non-null    object \n",
      " 6   monthly_allowance    298 non-null    object \n",
      " 7   scholarship          298 non-null    object \n",
      " 8   study_hours          298 non-null    object \n",
      " 9   partying_frequency   298 non-null    object \n",
      " 10  drinks_consumed      298 non-null    object \n",
      " 11  classes_missed       298 non-null    object \n",
      " 12  modules_failed       298 non-null    object \n",
      " 13  relationship         298 non-null    object \n",
      " 14  parents_approval     298 non-null    object \n",
      " 15  parent_relationship  298 non-null    object \n",
      "dtypes: float64(2), int64(1), object(13)\n",
      "memory usage: 39.6+ KB\n"
     ]
    }
   ],
   "source": [
    "df2.info()"
   ]
  },
  {
   "cell_type": "code",
   "execution_count": 108,
   "id": "f6fdf90d-510c-4640-b9ec-fb314d1233d7",
   "metadata": {},
   "outputs": [],
   "source": [
    "df3=df2.copy()"
   ]
  },
  {
   "cell_type": "code",
   "execution_count": 109,
   "id": "021214eb-dccb-4150-b96a-b3ae0cc6c156",
   "metadata": {},
   "outputs": [
    {
     "name": "stderr",
     "output_type": "stream",
     "text": [
      "/var/folders/jf/2172hndd7zv4fznws878lj3h0000gn/T/ipykernel_77174/4060749988.py:15: FutureWarning: Downcasting behavior in `replace` is deprecated and will be removed in a future version. To retain the old behavior, explicitly call `result.infer_objects(copy=False)`. To opt-in to the future behavior, set `pd.set_option('future.no_silent_downcasting', True)`\n",
      "  df3['drinks_consumed']=df2.drinks_consumed.replace(cols)\n",
      "/var/folders/jf/2172hndd7zv4fznws878lj3h0000gn/T/ipykernel_77174/4060749988.py:16: FutureWarning: Downcasting behavior in `replace` is deprecated and will be removed in a future version. To retain the old behavior, explicitly call `result.infer_objects(copy=False)`. To opt-in to the future behavior, set `pd.set_option('future.no_silent_downcasting', True)`\n",
      "  df3['study_hours']=df2.study_hours.replace(cols)\n",
      "/var/folders/jf/2172hndd7zv4fznws878lj3h0000gn/T/ipykernel_77174/4060749988.py:17: FutureWarning: Downcasting behavior in `replace` is deprecated and will be removed in a future version. To retain the old behavior, explicitly call `result.infer_objects(copy=False)`. To opt-in to the future behavior, set `pd.set_option('future.no_silent_downcasting', True)`\n",
      "  df3['partying_frequency']=df2.partying_frequency.replace(new2)\n",
      "/var/folders/jf/2172hndd7zv4fznws878lj3h0000gn/T/ipykernel_77174/4060749988.py:18: FutureWarning: Downcasting behavior in `replace` is deprecated and will be removed in a future version. To retain the old behavior, explicitly call `result.infer_objects(copy=False)`. To opt-in to the future behavior, set `pd.set_option('future.no_silent_downcasting', True)`\n",
      "  df3['modules_failed']=df2.modules_failed.replace(missed)\n",
      "/var/folders/jf/2172hndd7zv4fznws878lj3h0000gn/T/ipykernel_77174/4060749988.py:19: FutureWarning: Downcasting behavior in `replace` is deprecated and will be removed in a future version. To retain the old behavior, explicitly call `result.infer_objects(copy=False)`. To opt-in to the future behavior, set `pd.set_option('future.no_silent_downcasting', True)`\n",
      "  df3['classes_missed']=df2.classes_missed.replace(missed)\n"
     ]
    }
   ],
   "source": [
    "cols={'0': 0,\n",
    "     '1-3': 1,\n",
    "     '3-5': 2,\n",
    "     '5-8': 3,\n",
    "     '8+': 4}\n",
    "\n",
    "missed={'0': 0,\n",
    "     '1': 1,\n",
    "     '2': 2,\n",
    "     '3': 3,\n",
    "     '4+': 4}\n",
    "\n",
    "new2={'0': 0,'Only weekends': -1, '1': 1, '2': 2,'3': 3,'4+': 4}\n",
    "\n",
    "df3['drinks_consumed']=df2.drinks_consumed.replace(cols)\n",
    "df3['study_hours']=df2.study_hours.replace(cols)\n",
    "df3['partying_frequency']=df2.partying_frequency.replace(new2)\n",
    "df3['modules_failed']=df2.modules_failed.replace(missed)\n",
    "df3['classes_missed']=df2.classes_missed.replace(missed)"
   ]
  },
  {
   "cell_type": "code",
   "execution_count": 110,
   "id": "46cdf546-a45f-4b64-8755-e22bdad52689",
   "metadata": {},
   "outputs": [
    {
     "data": {
      "text/html": [
       "<div>\n",
       "<style scoped>\n",
       "    .dataframe tbody tr th:only-of-type {\n",
       "        vertical-align: middle;\n",
       "    }\n",
       "\n",
       "    .dataframe tbody tr th {\n",
       "        vertical-align: top;\n",
       "    }\n",
       "\n",
       "    .dataframe thead th {\n",
       "        text-align: right;\n",
       "    }\n",
       "</style>\n",
       "<table border=\"1\" class=\"dataframe\">\n",
       "  <thead>\n",
       "    <tr style=\"text-align: right;\">\n",
       "      <th></th>\n",
       "      <th>gender</th>\n",
       "      <th>hs_gpa</th>\n",
       "      <th>year_of_study</th>\n",
       "      <th>field</th>\n",
       "      <th>current_gpa</th>\n",
       "      <th>off_campus</th>\n",
       "      <th>monthly_allowance</th>\n",
       "      <th>scholarship</th>\n",
       "      <th>study_hours</th>\n",
       "      <th>partying_frequency</th>\n",
       "      <th>drinks_consumed</th>\n",
       "      <th>classes_missed</th>\n",
       "      <th>modules_failed</th>\n",
       "      <th>relationship</th>\n",
       "      <th>parents_approval</th>\n",
       "      <th>parent_relationship</th>\n",
       "    </tr>\n",
       "  </thead>\n",
       "  <tbody>\n",
       "    <tr>\n",
       "      <th>0</th>\n",
       "      <td>Female</td>\n",
       "      <td>76.0</td>\n",
       "      <td>2</td>\n",
       "      <td>Arts &amp; Social Sciences</td>\n",
       "      <td>72.0</td>\n",
       "      <td>Yes</td>\n",
       "      <td>R 4001- R 5000</td>\n",
       "      <td>No</td>\n",
       "      <td>4</td>\n",
       "      <td>-1</td>\n",
       "      <td>4</td>\n",
       "      <td>3</td>\n",
       "      <td>0</td>\n",
       "      <td>Yes</td>\n",
       "      <td>Yes</td>\n",
       "      <td>Very close</td>\n",
       "    </tr>\n",
       "    <tr>\n",
       "      <th>1</th>\n",
       "      <td>Male</td>\n",
       "      <td>89.0</td>\n",
       "      <td>2</td>\n",
       "      <td>Economic &amp; Management Sciences</td>\n",
       "      <td>75.0</td>\n",
       "      <td>Yes</td>\n",
       "      <td>R 7001 - R 8000</td>\n",
       "      <td>Yes</td>\n",
       "      <td>4</td>\n",
       "      <td>-1</td>\n",
       "      <td>2</td>\n",
       "      <td>4</td>\n",
       "      <td>0</td>\n",
       "      <td>No</td>\n",
       "      <td>Yes</td>\n",
       "      <td>Very close</td>\n",
       "    </tr>\n",
       "    <tr>\n",
       "      <th>2</th>\n",
       "      <td>Male</td>\n",
       "      <td>76.0</td>\n",
       "      <td>1</td>\n",
       "      <td>AgriSciences</td>\n",
       "      <td>55.0</td>\n",
       "      <td>Yes</td>\n",
       "      <td>R 4001- R 5000</td>\n",
       "      <td>No</td>\n",
       "      <td>2</td>\n",
       "      <td>2</td>\n",
       "      <td>4</td>\n",
       "      <td>3</td>\n",
       "      <td>0</td>\n",
       "      <td>No</td>\n",
       "      <td>Yes</td>\n",
       "      <td>Very close</td>\n",
       "    </tr>\n",
       "    <tr>\n",
       "      <th>3</th>\n",
       "      <td>Male</td>\n",
       "      <td>89.0</td>\n",
       "      <td>2</td>\n",
       "      <td>Engineering</td>\n",
       "      <td>84.0</td>\n",
       "      <td>Yes</td>\n",
       "      <td>R 6001 - R 7000</td>\n",
       "      <td>No</td>\n",
       "      <td>2</td>\n",
       "      <td>3</td>\n",
       "      <td>4</td>\n",
       "      <td>2</td>\n",
       "      <td>0</td>\n",
       "      <td>Yes</td>\n",
       "      <td>Yes</td>\n",
       "      <td>Very close</td>\n",
       "    </tr>\n",
       "    <tr>\n",
       "      <th>4</th>\n",
       "      <td>Female</td>\n",
       "      <td>74.0</td>\n",
       "      <td>2</td>\n",
       "      <td>Arts &amp; Social Sciences</td>\n",
       "      <td>52.0</td>\n",
       "      <td>Yes</td>\n",
       "      <td>R 4001- R 5000</td>\n",
       "      <td>No</td>\n",
       "      <td>2</td>\n",
       "      <td>-1</td>\n",
       "      <td>3</td>\n",
       "      <td>1</td>\n",
       "      <td>3</td>\n",
       "      <td>No</td>\n",
       "      <td>Yes</td>\n",
       "      <td>Fair</td>\n",
       "    </tr>\n",
       "  </tbody>\n",
       "</table>\n",
       "</div>"
      ],
      "text/plain": [
       "   gender  hs_gpa  year_of_study                           field  current_gpa  \\\n",
       "0  Female    76.0              2          Arts & Social Sciences         72.0   \n",
       "1    Male    89.0              2  Economic & Management Sciences         75.0   \n",
       "2    Male    76.0              1                    AgriSciences         55.0   \n",
       "3    Male    89.0              2                     Engineering         84.0   \n",
       "4  Female    74.0              2          Arts & Social Sciences         52.0   \n",
       "\n",
       "  off_campus monthly_allowance scholarship  study_hours  partying_frequency  \\\n",
       "0        Yes    R 4001- R 5000          No            4                  -1   \n",
       "1        Yes   R 7001 - R 8000         Yes            4                  -1   \n",
       "2        Yes    R 4001- R 5000          No            2                   2   \n",
       "3        Yes   R 6001 - R 7000          No            2                   3   \n",
       "4        Yes    R 4001- R 5000          No            2                  -1   \n",
       "\n",
       "   drinks_consumed  classes_missed  modules_failed relationship  \\\n",
       "0                4               3               0          Yes   \n",
       "1                2               4               0           No   \n",
       "2                4               3               0           No   \n",
       "3                4               2               0          Yes   \n",
       "4                3               1               3           No   \n",
       "\n",
       "  parents_approval parent_relationship  \n",
       "0              Yes          Very close  \n",
       "1              Yes          Very close  \n",
       "2              Yes          Very close  \n",
       "3              Yes          Very close  \n",
       "4              Yes                Fair  "
      ]
     },
     "execution_count": 110,
     "metadata": {},
     "output_type": "execute_result"
    }
   ],
   "source": [
    "df3.head()"
   ]
  },
  {
   "cell_type": "code",
   "execution_count": 111,
   "id": "910681b3-a689-4d79-9737-5dae2dee24ac",
   "metadata": {},
   "outputs": [],
   "source": [
    "# Push the remade DataFrame to a new CSV file\n",
    "df3.to_csv(\"../testing_data.csv\", index=False)"
   ]
  },
  {
   "cell_type": "code",
   "execution_count": 67,
   "id": "5767f3a5-58d5-40c5-a3f0-70ecce58e6b0",
   "metadata": {},
   "outputs": [
    {
     "data": {
      "text/plain": [
       "Index(['gender', 'hs_gpa', 'year_of_study', 'field', 'current_gpa',\n",
       "       'off_campus', 'monthly_allowance', 'scholarship', 'study_hours',\n",
       "       'partying_frequency', 'drinks_consumed', 'classes_missed',\n",
       "       'modules_failed', 'relationship', 'parents_approval',\n",
       "       'parent_relationship'],\n",
       "      dtype='object')"
      ]
     },
     "execution_count": 67,
     "metadata": {},
     "output_type": "execute_result"
    }
   ],
   "source": [
    "df3.columns"
   ]
  },
  {
   "cell_type": "code",
   "execution_count": 68,
   "id": "f4d6b689-b832-4723-89c3-76795d9e949b",
   "metadata": {},
   "outputs": [],
   "source": [
    "le=preprocessing.LabelEncoder() "
   ]
  },
  {
   "cell_type": "code",
   "execution_count": 69,
   "id": "904385c3-12ab-4dd2-843a-b44582d5bb47",
   "metadata": {},
   "outputs": [],
   "source": [
    "sex= le.fit_transform(df2.gender)\n",
    "field= le.fit_transform(df2.field)\n",
    "campus= le.fit_transform(df2.off_campus)\n",
    "money= le.fit_transform(df2.monthly_allowance)\n",
    "aid = le.fit_transform(df2.scholarship)\n",
    "mods = le.fit_transform(df2.modules_failed)\n",
    "relationship = le.fit_transform(df2.relationship)\n",
    "parent_approval= le.fit_transform(df2.parents_approval)\n",
    "parent_relationship= le.fit_transform(df2.parent_relationship)\n",
    "\n",
    "hsgpa=df3.hs_gpa\n",
    "year=df3.year_of_study\n",
    "cgpa=df3.current_gpa\n",
    "study=df3.study_hours\n",
    "freq=df3.partying_frequency\n",
    "drinks=df3.drinks_consumed\n",
    "classes=df3.classes_missed\n"
   ]
  },
  {
   "cell_type": "code",
   "execution_count": 70,
   "id": "c01a3799-6231-4a0b-9844-fee8fad9fffb",
   "metadata": {},
   "outputs": [
    {
     "data": {
      "text/html": [
       "<div>\n",
       "<style scoped>\n",
       "    .dataframe tbody tr th:only-of-type {\n",
       "        vertical-align: middle;\n",
       "    }\n",
       "\n",
       "    .dataframe tbody tr th {\n",
       "        vertical-align: top;\n",
       "    }\n",
       "\n",
       "    .dataframe thead th {\n",
       "        text-align: right;\n",
       "    }\n",
       "</style>\n",
       "<table border=\"1\" class=\"dataframe\">\n",
       "  <thead>\n",
       "    <tr style=\"text-align: right;\">\n",
       "      <th></th>\n",
       "      <th>gender</th>\n",
       "      <th>hs_gpa</th>\n",
       "      <th>year</th>\n",
       "      <th>field</th>\n",
       "      <th>gpa</th>\n",
       "      <th>campus</th>\n",
       "      <th>money</th>\n",
       "      <th>aid</th>\n",
       "      <th>study</th>\n",
       "      <th>freq</th>\n",
       "      <th>drinks</th>\n",
       "      <th>classes</th>\n",
       "      <th>mods</th>\n",
       "      <th>relation</th>\n",
       "      <th>approval</th>\n",
       "      <th>family</th>\n",
       "    </tr>\n",
       "  </thead>\n",
       "  <tbody>\n",
       "    <tr>\n",
       "      <th>0</th>\n",
       "      <td>0</td>\n",
       "      <td>76.0</td>\n",
       "      <td>2</td>\n",
       "      <td>1</td>\n",
       "      <td>72.0</td>\n",
       "      <td>1</td>\n",
       "      <td>0</td>\n",
       "      <td>0</td>\n",
       "      <td>4</td>\n",
       "      <td>-1</td>\n",
       "      <td>4</td>\n",
       "      <td>3</td>\n",
       "      <td>0</td>\n",
       "      <td>1</td>\n",
       "      <td>1</td>\n",
       "      <td>3</td>\n",
       "    </tr>\n",
       "    <tr>\n",
       "      <th>1</th>\n",
       "      <td>1</td>\n",
       "      <td>89.0</td>\n",
       "      <td>2</td>\n",
       "      <td>2</td>\n",
       "      <td>75.0</td>\n",
       "      <td>1</td>\n",
       "      <td>3</td>\n",
       "      <td>1</td>\n",
       "      <td>4</td>\n",
       "      <td>-1</td>\n",
       "      <td>2</td>\n",
       "      <td>4</td>\n",
       "      <td>0</td>\n",
       "      <td>0</td>\n",
       "      <td>1</td>\n",
       "      <td>3</td>\n",
       "    </tr>\n",
       "    <tr>\n",
       "      <th>2</th>\n",
       "      <td>1</td>\n",
       "      <td>76.0</td>\n",
       "      <td>1</td>\n",
       "      <td>0</td>\n",
       "      <td>55.0</td>\n",
       "      <td>1</td>\n",
       "      <td>0</td>\n",
       "      <td>0</td>\n",
       "      <td>2</td>\n",
       "      <td>2</td>\n",
       "      <td>4</td>\n",
       "      <td>3</td>\n",
       "      <td>0</td>\n",
       "      <td>0</td>\n",
       "      <td>1</td>\n",
       "      <td>3</td>\n",
       "    </tr>\n",
       "    <tr>\n",
       "      <th>3</th>\n",
       "      <td>1</td>\n",
       "      <td>89.0</td>\n",
       "      <td>2</td>\n",
       "      <td>4</td>\n",
       "      <td>84.0</td>\n",
       "      <td>1</td>\n",
       "      <td>2</td>\n",
       "      <td>0</td>\n",
       "      <td>2</td>\n",
       "      <td>3</td>\n",
       "      <td>4</td>\n",
       "      <td>2</td>\n",
       "      <td>0</td>\n",
       "      <td>1</td>\n",
       "      <td>1</td>\n",
       "      <td>3</td>\n",
       "    </tr>\n",
       "    <tr>\n",
       "      <th>4</th>\n",
       "      <td>0</td>\n",
       "      <td>74.0</td>\n",
       "      <td>2</td>\n",
       "      <td>1</td>\n",
       "      <td>52.0</td>\n",
       "      <td>1</td>\n",
       "      <td>0</td>\n",
       "      <td>0</td>\n",
       "      <td>2</td>\n",
       "      <td>-1</td>\n",
       "      <td>3</td>\n",
       "      <td>1</td>\n",
       "      <td>3</td>\n",
       "      <td>0</td>\n",
       "      <td>1</td>\n",
       "      <td>2</td>\n",
       "    </tr>\n",
       "  </tbody>\n",
       "</table>\n",
       "</div>"
      ],
      "text/plain": [
       "   gender  hs_gpa  year  field   gpa  campus  money  aid  study  freq  drinks  \\\n",
       "0       0    76.0     2      1  72.0       1      0    0      4    -1       4   \n",
       "1       1    89.0     2      2  75.0       1      3    1      4    -1       2   \n",
       "2       1    76.0     1      0  55.0       1      0    0      2     2       4   \n",
       "3       1    89.0     2      4  84.0       1      2    0      2     3       4   \n",
       "4       0    74.0     2      1  52.0       1      0    0      2    -1       3   \n",
       "\n",
       "   classes  mods  relation  approval  family  \n",
       "0        3     0         1         1       3  \n",
       "1        4     0         0         1       3  \n",
       "2        3     0         0         1       3  \n",
       "3        2     0         1         1       3  \n",
       "4        1     3         0         1       2  "
      ]
     },
     "execution_count": 70,
     "metadata": {},
     "output_type": "execute_result"
    }
   ],
   "source": [
    "Numerical= {'gender': sex,\n",
    "         'hs_gpa': hsgpa,\n",
    "         'year': year,\n",
    "         'field': field,\n",
    "         'gpa': cgpa,\n",
    "         'campus': campus,\n",
    "       'money': money,\n",
    "       'aid': aid,\n",
    "       'study': study,\n",
    "       'freq': freq,\n",
    "       'drinks': drinks,\n",
    "       'classes': classes,\n",
    "       \"mods\": mods,\n",
    "      \"relation\": relationship,\n",
    "      'approval': parent_approval,\n",
    "      'family': parent_relationship}\n",
    "\n",
    "num_df=pd.DataFrame(numerical)\n",
    "num_df.head()"
   ]
  },
  {
   "cell_type": "code",
   "execution_count": 71,
   "id": "7e236708-3ccb-408d-ad2c-dc8e19c96ff7",
   "metadata": {},
   "outputs": [],
   "source": [
    "# Push the remade DataFrame to a new CSV file\n",
    "num_df.to_csv(\"../numeric_only.csv\", index=False)"
   ]
  }
 ],
 "metadata": {
  "kernelspec": {
   "display_name": "Python 3 (ipykernel)",
   "language": "python",
   "name": "python3"
  },
  "language_info": {
   "codemirror_mode": {
    "name": "ipython",
    "version": 3
   },
   "file_extension": ".py",
   "mimetype": "text/x-python",
   "name": "python",
   "nbconvert_exporter": "python",
   "pygments_lexer": "ipython3",
   "version": "3.10.14"
  }
 },
 "nbformat": 4,
 "nbformat_minor": 5
}
